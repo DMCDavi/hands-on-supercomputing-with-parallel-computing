{
  "cells": [
    {
      "cell_type": "markdown",
      "metadata": {
        "id": "xXATwZ8VxZG7"
      },
      "source": [
        "# Relatório de HandsOn-1 e HandsOn-2\n",
        "\n",
        "D. M. Costa$^1$, J. F. Caldas$^1$\n",
        "\n",
        "$^1$ Department of Computer Engenier – University SENAI CIMATEC, Salvador, Bahia, Brazil "
      ]
    },
    {
      "cell_type": "markdown",
      "metadata": {
        "id": "B5PcGb-Pt0_j"
      },
      "source": [
        "# Resumo"
      ]
    },
    {
      "cell_type": "markdown",
      "metadata": {
        "id": "orxl23v_xqVe"
      },
      "source": [
        "Relatório de confecção dos dois primeiros HandsOn da disciplina de Programação Paralela ministrada pelo professor Murilo Boratto. Neste trabalho a problemática consiste em otimizar o processo de multiplicação de matrizes, cálculo de integral, filtros de imagens, números primos e testar o uso de diferentes diretivas da biblioteca OpenMP para linguagem C com a finalidade de proporcionar um primeiro contato com as tecnologias e metodologias que serão utilizadas na disciplina."
      ]
    },
    {
      "cell_type": "markdown",
      "metadata": {
        "id": "dGlWZ-SlQObx"
      },
      "source": [
        "# Introdução"
      ]
    },
    {
      "cell_type": "markdown",
      "metadata": {
        "id": "ngiuqnkbvTdx"
      },
      "source": [
        "A ideia de programação paralela vêm desde o final dos anos 60 com Dijkstra e foi evoluindo através de processos sequenciais, Monitores e Sistemas Operacionais, programas concorrentes, exclusão mútua, variáveis compartilhadas, dentre outros [1].\n",
        "\n",
        "Um dos conceitos citados que foi muito importante para evolução do paralelismo é o de programação concorrente que é “Um conjunto de programas sequenciais ordinários os quais são executados em uma abstração de paralelismo.” e acompanha também o conceito de pseudo-paralelismo uma vez que  Sobreposição de I/O e Computação, Multiprogramação e Multi-tarefação são exemplos de atividades concorrentes [1].\n",
        "\n",
        "Tais concepções amadureceram e no panorama atual, o advento da programação paralela é dado por  “um algoritmo que é visto como um conjunto de partes que podem ser resolvidas concorrentemente, e cada parte é igualmente constituída por uma série de instruções sequenciais, mas que no seu conjunto podem ser executadas simultaneamente em vários processadores.” [2]\n",
        " Sendo assim cada vez mais é possível atingir novos níveis de potência e velocidade de processamento , melhores funcionalidades, mais confiabilidade, melhores tempos de execução, entre outros [1]. "
      ]
    },
    {
      "cell_type": "markdown",
      "metadata": {
        "id": "qWbtdBgpwXeJ"
      },
      "source": [
        "# Resultados e Discussão"
      ]
    },
    {
      "cell_type": "markdown",
      "metadata": {
        "id": "_JLix8Er5F6v"
      },
      "source": [
        "### HandsOn 1 - Multiplicação de Matrizes"
      ]
    },
    {
      "cell_type": "markdown",
      "metadata": {
        "id": "eotWvBGe6KgS"
      },
      "source": [
        "#### Sessão 1"
      ]
    },
    {
      "cell_type": "markdown",
      "metadata": {
        "id": "yfk1FFoy5Dq2"
      },
      "source": [
        "Nesta sessão foi construído um algoritmo de multiplicação de matrizes a partir da utilização de 3 laços de repetição."
      ]
    },
    {
      "cell_type": "code",
      "execution_count": 1,
      "metadata": {
        "colab": {
          "base_uri": "https://localhost:8080/"
        },
        "id": "Uow9y_ZE6pH2",
        "outputId": "fa036da9-2eb2-4412-eced-9f14fa4292e7"
      },
      "outputs": [
        {
          "output_type": "stream",
          "name": "stdout",
          "text": [
            "Writing mm.c\n"
          ]
        }
      ],
      "source": [
        "%%writefile mm.c\n",
        "#include <stdio.h>\n",
        "\n",
        "#include <stdlib.h>\n",
        "\n",
        "void initializeMatrix(int * matrix, int size) {\n",
        "  for (int i = 0; i < size; i++)\n",
        "    for (int j = 0; j < size; j++)\n",
        "      matrix[i * size + j] = rand() % (10 - 1) * 1;\n",
        "}\n",
        "void printMatrix(int * matrix, int size) {\n",
        "  for (int i = 0; i < size; i++) {\n",
        "    for (int j = 0; j < size; j++)\n",
        "      printf(\"%d\\t\", matrix[i * size + j]);\n",
        "    printf(\"\\n\");\n",
        "  }\n",
        "  printf(\"\\n\");\n",
        "}\n",
        "int main(int argc, char ** argv) {\n",
        "  int size = atoi(argv[1]);\n",
        "  int i, j, k;\n",
        "  int * A = (int * ) malloc(sizeof(int) * size * size);\n",
        "  int * B = (int * ) malloc(sizeof(int) * size * size);\n",
        "  int * C = (int * ) malloc(sizeof(int) * size * size);\n",
        "  initializeMatrix(A, size);\n",
        "  initializeMatrix(B, size);\n",
        "  for (i = 0; i < size; i++)\n",
        "    for (j = 0; j < size; j++)\n",
        "      for (k = 0; k < size; k++)\n",
        "        C[i * size + j] += A[i * size + k] * B[k * size + j];\n",
        "  printMatrix(A, size);\n",
        "  printMatrix(B, size);\n",
        "  printMatrix(C, size);\n",
        "  return 0;\n",
        "}"
      ]
    },
    {
      "cell_type": "markdown",
      "metadata": {
        "id": "Ppomraix8bcI"
      },
      "source": [
        "Então o código foi compilado e executado com apenas 1 *thread*."
      ]
    },
    {
      "cell_type": "code",
      "execution_count": 2,
      "metadata": {
        "colab": {
          "base_uri": "https://localhost:8080/"
        },
        "collapsed": true,
        "id": "BU57PpJK7Q2K",
        "outputId": "1cad2641-08eb-4d69-be95-239113d9b17e"
      },
      "outputs": [
        {
          "output_type": "stream",
          "name": "stdout",
          "text": [
            "1\t7\t0\t7\t5\t7\t1\t3\t6\t1\t\n",
            "5\t4\t5\t7\t5\t4\t6\t0\t7\t1\t\n",
            "8\t8\t6\t6\t8\t8\t8\t4\t1\t1\t\n",
            "5\t0\t0\t3\t5\t3\t1\t7\t4\t7\t\n",
            "6\t0\t0\t2\t5\t4\t5\t2\t2\t3\t\n",
            "2\t1\t1\t8\t8\t0\t5\t5\t4\t4\t\n",
            "6\t0\t5\t6\t2\t8\t7\t3\t4\t2\t\n",
            "0\t0\t0\t0\t2\t6\t2\t5\t6\t5\t\n",
            "7\t6\t6\t8\t5\t3\t6\t2\t8\t1\t\n",
            "6\t6\t8\t0\t1\t1\t7\t0\t3\t2\t\n",
            "\n",
            "0\t1\t2\t1\t8\t3\t5\t2\t6\t0\t\n",
            "7\t2\t7\t2\t8\t1\t6\t5\t1\t5\t\n",
            "4\t6\t0\t4\t6\t2\t3\t2\t0\t4\t\n",
            "3\t7\t5\t3\t6\t5\t4\t2\t5\t2\t\n",
            "1\t3\t2\t8\t3\t2\t0\t0\t7\t2\t\n",
            "4\t3\t6\t2\t5\t1\t2\t6\t4\t2\t\n",
            "2\t7\t8\t5\t1\t5\t1\t4\t8\t4\t\n",
            "6\t7\t5\t8\t6\t0\t8\t4\t0\t7\t\n",
            "4\t2\t8\t1\t5\t2\t3\t7\t8\t7\t\n",
            "8\t1\t3\t7\t5\t2\t3\t6\t6\t0\t\n",
            "\n",
            "155\t141\t212\t132\t210\t81\t135\t157\t173\t140\t\n",
            "138\t176\t214\t146\t225\t124\t130\t157\t230\t145\t\n",
            "190\t237\t261\t226\t306\t142\t192\t189\t252\t175\t\n",
            "142\t121\t149\t174\t186\t70\t133\t136\t174\t103\t\n",
            "81\t103\t131\t124\t137\t77\t82\t100\t171\t70\t\n",
            "131\t172\t176\t193\t177\t106\t120\t119\t205\t124\t\n",
            "136\t188\t203\t153\t215\t117\t134\t162\t212\t129\t\n",
            "124\t90\t144\t119\t123\t42\t87\t136\t132\t101\t\n",
            "171\t208\t249\t174\t281\t140\t176\t184\t253\t180\t\n",
            "121\t129\t148\t112\t184\t88\t114\t125\t145\t115\t\n",
            "\n"
          ]
        }
      ],
      "source": [
        "!gcc ./mm.c -o mm\n",
        "!./mm 10"
      ]
    },
    {
      "cell_type": "markdown",
      "metadata": {
        "id": "b0Lp1D3l9MFJ"
      },
      "source": [
        "Para realizar a paralelização, foi utilizada a biblioteca OMP, que foi instalada com os seguintes comandos:"
      ]
    },
    {
      "cell_type": "code",
      "execution_count": 5,
      "metadata": {
        "id": "f8WhwLOGriEz",
        "colab": {
          "base_uri": "https://localhost:8080/"
        },
        "outputId": "d5d1e93a-f2f7-46cd-8544-76fbb4798576"
      },
      "outputs": [
        {
          "output_type": "stream",
          "name": "stdout",
          "text": [
            "Reading package lists... Done\n",
            "Building dependency tree       \n",
            "Reading state information... Done\n",
            "The following package was automatically installed and is no longer required:\n",
            "  libnvidia-common-460\n",
            "Use 'apt autoremove' to remove it.\n",
            "The following additional packages will be installed:\n",
            "  libomp5\n",
            "Suggested packages:\n",
            "  libomp-doc\n",
            "The following NEW packages will be installed:\n",
            "  libomp-dev libomp5\n",
            "0 upgraded, 2 newly installed, 0 to remove and 20 not upgraded.\n",
            "Need to get 239 kB of archives.\n",
            "After this operation, 804 kB of additional disk space will be used.\n",
            "Get:1 http://archive.ubuntu.com/ubuntu bionic/universe amd64 libomp5 amd64 5.0.1-1 [234 kB]\n",
            "Get:2 http://archive.ubuntu.com/ubuntu bionic/universe amd64 libomp-dev amd64 5.0.1-1 [5,088 B]\n",
            "Fetched 239 kB in 0s (2,225 kB/s)\n",
            "Selecting previously unselected package libomp5:amd64.\n",
            "(Reading database ... 155676 files and directories currently installed.)\n",
            "Preparing to unpack .../libomp5_5.0.1-1_amd64.deb ...\n",
            "Unpacking libomp5:amd64 (5.0.1-1) ...\n",
            "Selecting previously unselected package libomp-dev.\n",
            "Preparing to unpack .../libomp-dev_5.0.1-1_amd64.deb ...\n",
            "Unpacking libomp-dev (5.0.1-1) ...\n",
            "Setting up libomp5:amd64 (5.0.1-1) ...\n",
            "Setting up libomp-dev (5.0.1-1) ...\n",
            "Processing triggers for libc-bin (2.27-3ubuntu1.5) ...\n",
            "Reading package lists... Done\n",
            "Building dependency tree       \n",
            "Reading state information... Done\n",
            "build-essential is already the newest version (12.4ubuntu1).\n",
            "The following package was automatically installed and is no longer required:\n",
            "  libnvidia-common-460\n",
            "Use 'sudo apt autoremove' to remove it.\n",
            "0 upgraded, 0 newly installed, 0 to remove and 20 not upgraded.\n",
            "Reading package lists... Done\n",
            "Building dependency tree       \n",
            "Reading state information... Done\n",
            "manpages-dev is already the newest version (4.15-1).\n",
            "The following package was automatically installed and is no longer required:\n",
            "  libnvidia-common-460\n",
            "Use 'sudo apt autoremove' to remove it.\n",
            "0 upgraded, 0 newly installed, 0 to remove and 20 not upgraded.\n"
          ]
        }
      ],
      "source": [
        "!apt-get install libomp-dev\n",
        "!sudo apt install build-essential\n",
        "!sudo apt-get install manpages-dev"
      ]
    },
    {
      "cell_type": "markdown",
      "metadata": {
        "id": "ezKYU9p67tTP"
      },
      "source": [
        "Após isso, o código foi alterado para operar com mais de uma *thread* e criamos uma métrica para analisar o tempo de execução em cada tentativa."
      ]
    },
    {
      "cell_type": "code",
      "execution_count": 3,
      "metadata": {
        "colab": {
          "base_uri": "https://localhost:8080/"
        },
        "id": "At42SeD59WT-",
        "outputId": "a13861c9-11e1-4261-978f-66715a718623"
      },
      "outputs": [
        {
          "output_type": "stream",
          "name": "stdout",
          "text": [
            "Overwriting mm.c\n"
          ]
        }
      ],
      "source": [
        "%%writefile mm.c\n",
        "/*\n",
        "File:           mm.c\n",
        "Last changed:   20220303 11:35:00 \n",
        "Purpose:        Matrix Multiply Sequential Algorithm in C\n",
        "Author:         Murilo Boratto  <muriloboratto 'at' fieb.org.br>\n",
        "Usage:\n",
        "HowToCompile:   gcc mm.c -o mm -fopenmp\n",
        "HowToExecute:   ./mm    <size> \n",
        "                ./mm      100           \n",
        "*/\n",
        "\n",
        "#include <stdio.h>\n",
        "#include <stdlib.h>\n",
        "#include <omp.h>\n",
        "\n",
        "void initializeMatrix(int *matrix, int size)\n",
        "{\n",
        "  for (int i = 0; i < size; i++)\n",
        "    for (int j = 0; j < size; j++)\n",
        "      matrix[i * size + j] = rand() % (10 - 1) * 1;\n",
        "}\n",
        "\n",
        "void printMatrix(int *matrix, int size)\n",
        "{\n",
        "  for (int i = 0; i < size; i++)\n",
        "  {\n",
        "    for (int j = 0; j < size; j++)\n",
        "      printf(\"%d\\t\", matrix[i * size + j]);\n",
        "    printf(\"\\n\");\n",
        "  }\n",
        "  printf(\"\\n\");\n",
        "}\n",
        "\n",
        "int main(int argc, char **argv) {\n",
        "\tint size = atoi(argv[1]);\n",
        "\tint i, j, k;\n",
        "\tdouble t1, t2;\n",
        "\n",
        "\tint *A = (int *) malloc (sizeof(int)*size*size);\n",
        "\tint *B = (int *) malloc (sizeof(int)*size*size);\n",
        "\tint *C = (int *) malloc (sizeof(int)*size*size);\n",
        "\t\n",
        "\tinitializeMatrix(A, size);\n",
        "\tinitializeMatrix(B, size);\n",
        "\tt1 = omp_get_wtime();\n",
        "\t#pragma omp parallel for private(i,j,k)\n",
        "\tfor(i=0;i<size;i++)\n",
        "\t\tfor(j=0;j<size;j++)\n",
        "\t\t\tfor(k=0;k<size;k++)\n",
        "\t\t\t\tC[i*size+j] += A[i*size+k] * B[k*size+j];\n",
        "\tt2 = omp_get_wtime();\n",
        "\n",
        "\tprintf(\"%d \\t %f\\n\", size, t2 - t1);\n",
        "\n",
        "\treturn 0;\n",
        "}\n"
      ]
    },
    {
      "cell_type": "code",
      "source": [
        "!gcc ./mm.c -o mm -fopenmp"
      ],
      "metadata": {
        "id": "79Tk4c2KCEbY"
      },
      "execution_count": 6,
      "outputs": []
    },
    {
      "cell_type": "markdown",
      "metadata": {
        "id": "x8KeLmBX-EA1"
      },
      "source": [
        "Então foi criado um *script* para executar o código várias vezes com quantidades de threads diferentes, retornando o tempo de execução de cada uma."
      ]
    },
    {
      "cell_type": "code",
      "execution_count": null,
      "metadata": {
        "colab": {
          "base_uri": "https://localhost:8080/"
        },
        "id": "IlXZ1UjO-TA5",
        "outputId": "6503adf3-7ecf-4dd2-a867-506f8b5e0152"
      },
      "outputs": [
        {
          "output_type": "stream",
          "name": "stdout",
          "text": [
            "Writing script.sh\n"
          ]
        }
      ],
      "source": [
        "%%writefile script.sh\n",
        "#!/bin/sh\n",
        "for i in 100 200 300 400 500 600 700 800 900 1000\n",
        "do\n",
        "  printf \"\\033[1D$i :\"\n",
        "  OMP_NUM_THREADS=$1 ./mm \"$i\"\n",
        "done"
      ]
    },
    {
      "cell_type": "code",
      "source": [
        "!bash script.sh 4"
      ],
      "metadata": {
        "colab": {
          "base_uri": "https://localhost:8080/"
        },
        "id": "kWO-ju1BCNc6",
        "outputId": "95d04a52-77a4-4df3-9174-306ce5dadfe5"
      },
      "execution_count": null,
      "outputs": [
        {
          "output_type": "stream",
          "name": "stdout",
          "text": [
            "\u001b[1D100 :100 \t 0.008455\n",
            "\u001b[1D200 :200 \t 0.035881\n",
            "\u001b[1D300 :300 \t 0.125345\n",
            "\u001b[1D400 :400 \t 0.324526\n",
            "\u001b[1D500 :500 \t 0.670699\n",
            "\u001b[1D600 :600 \t 1.162295\n",
            "\u001b[1D700 :700 \t 1.876059\n",
            "\u001b[1D800 :800 \t 2.780097\n",
            "\u001b[1D900 :900 \t 4.637246\n",
            "\u001b[1D1000 :1000 \t 8.204912\n"
          ]
        }
      ]
    },
    {
      "cell_type": "markdown",
      "source": [
        "A partir dos dados colhidos através da execução sequencial do script com diferentes quantidade de *threads* foi possível montar gráficos utilizando a biblioteca GNUPlot."
      ],
      "metadata": {
        "id": "FVe5KDQECeuc"
      }
    },
    {
      "cell_type": "markdown",
      "metadata": {
        "id": "dY82zn-CHmyh"
      },
      "source": [
        "**What is the behavior of the execution time and the speedup varying the size of the problem? (Show the solution with tabular and graphical values).**"
      ]
    },
    {
      "cell_type": "markdown",
      "metadata": {
        "id": "djvfVzPywYMX"
      },
      "source": [
        "![image.png](data:image/png;base64,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)"
      ]
    },
    {
      "cell_type": "markdown",
      "metadata": {
        "id": "_50HfmhKzRFW"
      },
      "source": [
        "O gráfico acima mostra a relação entre o tamanho das matrizes e o tempo de execução para realizar a multiplicação, em que cada linha mostra a execução do algoritmo com diferentes quantidades de *threads*."
      ]
    },
    {
      "cell_type": "markdown",
      "source": [
        "Nele é possível notar que há uma diferença significativa entre 1 e 5 threads, enquanto a partir de 6 as linhas são bem parecidas."
      ],
      "metadata": {
        "id": "MfGipt-VFlPJ"
      }
    },
    {
      "cell_type": "markdown",
      "metadata": {
        "id": "77Q4re0Xy383"
      },
      "source": [
        "![image.png](data:image/png;base64,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)"
      ]
    },
    {
      "cell_type": "markdown",
      "metadata": {
        "id": "aADPXFLRz_ks"
      },
      "source": [
        "O *speedup* de um algoritomo baseado em computação paralela é uma métrica que calcula a eficiência do código comparando o tempo de execução ao utilizar diferentes quantidades de *threads*. \n",
        "\n",
        "Portanto, a figura acima representa o *speedup* do algoritmo de multiplicação de matrizes de 1 a 10 *threads* com uma matriz de tamanho 1000 x 1000.\n",
        "\n",
        "Dessa forma, é possível notar que até 5 *threads* o *speedup* aumenta significativamente, já com 6 *threads* há uma anomalia no gráfico, pois o computador em que o algoritmo foi executado também estava processando outras tarefas do sistema operacional, e entre 6 e 10 *threads* o *speedup* quase não se alterou. \n",
        "\n"
      ]
    },
    {
      "cell_type": "markdown",
      "metadata": {
        "id": "K0YK-WnxHw7c"
      },
      "source": [
        "**What is the optimal number of threads for the best parallel solution?**"
      ]
    },
    {
      "cell_type": "markdown",
      "metadata": {
        "id": "t4ydTcYu5L6m"
      },
      "source": [
        "Levando em consideração a arquitetura do computador em que o algoritmo foi executado, a quantidade de *threads* com maior *speedup* foi 6."
      ]
    },
    {
      "cell_type": "markdown",
      "metadata": {
        "id": "8_wXslzMvWxB"
      },
      "source": [
        "#### Sessão 2"
      ]
    },
    {
      "cell_type": "markdown",
      "source": [
        "Nesta sessão foi contruído um código que divide a matriz em blocos para realizar a multiplicação, em que cada *thread* atua em apenas uma parte da matriz."
      ],
      "metadata": {
        "id": "eXrPworPGQfK"
      }
    },
    {
      "cell_type": "code",
      "execution_count": null,
      "metadata": {
        "colab": {
          "base_uri": "https://localhost:8080/"
        },
        "id": "yE2EdFvD9gRr",
        "outputId": "db038cb5-00d2-40ca-c7a0-7a8c640f2443"
      },
      "outputs": [
        {
          "output_type": "stream",
          "name": "stdout",
          "text": [
            "Writing asyncTaskOpenMP.c\n"
          ]
        }
      ],
      "source": [
        "%%writefile asyncTaskOpenMP.c\n",
        "/*\n",
        "File:           asyncTaskOpenMP.c\n",
        "Purpose:        Implement the asynchronous tasks using API OpenMP\n",
        "Author:         Murilo Boratto  <muriloboratto 'at' fieb.org.br>\n",
        "Usage:\n",
        "HowToCompile:   gcc asyncTaskOpenMP.c -o asyncTaskOpenMP -fopenmp\n",
        "HowToExecute:   ./asyncTaskOpenMP    <size>   <blockSize>\n",
        "Example:        ./asyncTaskOpenMP      10           2\n",
        "*/\n",
        "\n",
        "#include <stdio.h>\n",
        "#include <stdlib.h>\n",
        "#include <omp.h>\n",
        "#define SIZE_MATRIX 10\n",
        "\n",
        "int main(int argc, char **argv)\n",
        "{\n",
        "  int n = atoi(argv[1]);\n",
        "  int block_size = atoi(argv[2]);\n",
        "  int matrix[SIZE_MATRIX][SIZE_MATRIX], k1 = 10, k2 = 20, k3 = 30, k4 = 40, k5 = 50;\n",
        "  int i, j, row, column;\n",
        "\n",
        "  for(i = 0; i < n; i++)\n",
        "  {\n",
        "    for(j = 0; j < n; j++)\n",
        "    {\n",
        "      matrix[i][j] = 5;\n",
        "      printf(\"%d\\t\", matrix[i][j]);\n",
        "    }\n",
        "    printf(\"\\n\");\n",
        "  }\n",
        "\n",
        "  printf(\"\\n\\n\");\n",
        "\n",
        "  omp_set_num_threads(5);\n",
        "\n",
        "  #pragma omp parallel private(row, column)\n",
        "  {\n",
        "    int id = omp_get_thread_num();\n",
        "\n",
        "    if(id == 0)\n",
        "    {\n",
        "      for(row = 0; row < n; row++)\n",
        "        for(column = 0; column < block_size; column++)\n",
        "          matrix[row][column] *= k1;\n",
        "    }\n",
        "\n",
        "    if(id == 1)\n",
        "    {\n",
        "      for(row = 0; row < n; row++)\n",
        "        for(column = block_size; column < 2 * block_size; column++)\n",
        "          matrix[row][column] *= k2;\n",
        "    }\n",
        "    \n",
        "    if(id == 2)\n",
        "    {\n",
        "      for(row = 0; row < n; row++)\n",
        "        for(column = 2 * block_size; column < 3 * block_size; column++)\n",
        "          matrix[row][column] *= k3;\n",
        "    }\n",
        "    \n",
        "    if(id == 3)\n",
        "    {\n",
        "      for(row = 0; row < n; row++)\n",
        "        for(column = 3 * block_size; column < 4 * block_size; column++)\n",
        "          matrix[row][column] *= k4;\n",
        "    }\n",
        "    \n",
        "    if(id == 4)\n",
        "    {\n",
        "      for(row = 0; row < n; row++)\n",
        "        for(column = 4 * block_size; column < 5 * block_size; column++)\n",
        "          matrix[row][column] *= k5;\n",
        "    }\n",
        "  \n",
        "  }\n",
        "\n",
        "  for(i = 0; i < n; i++)\n",
        "  {\n",
        "    for(j = 0; j < n; j++)\n",
        "      printf(\"%d\\t\", matrix[i][j]);\n",
        "    printf(\"\\n\");\n",
        "  }\n",
        "\n",
        "  return 0;\n",
        "}"
      ]
    },
    {
      "cell_type": "code",
      "execution_count": null,
      "metadata": {
        "colab": {
          "base_uri": "https://localhost:8080/"
        },
        "id": "gihCk-nAspvf",
        "outputId": "60edfe8b-1ce9-4a5a-8f0b-76765511ecfe"
      },
      "outputs": [
        {
          "output_type": "stream",
          "name": "stdout",
          "text": [
            "5\t5\t5\t5\t5\t5\t5\t5\t5\t5\t\n",
            "5\t5\t5\t5\t5\t5\t5\t5\t5\t5\t\n",
            "5\t5\t5\t5\t5\t5\t5\t5\t5\t5\t\n",
            "5\t5\t5\t5\t5\t5\t5\t5\t5\t5\t\n",
            "5\t5\t5\t5\t5\t5\t5\t5\t5\t5\t\n",
            "5\t5\t5\t5\t5\t5\t5\t5\t5\t5\t\n",
            "5\t5\t5\t5\t5\t5\t5\t5\t5\t5\t\n",
            "5\t5\t5\t5\t5\t5\t5\t5\t5\t5\t\n",
            "5\t5\t5\t5\t5\t5\t5\t5\t5\t5\t\n",
            "5\t5\t5\t5\t5\t5\t5\t5\t5\t5\t\n",
            "\n",
            "\n",
            "50\t50\t100\t100\t150\t150\t200\t200\t250\t250\t\n",
            "50\t50\t100\t100\t150\t150\t200\t200\t250\t250\t\n",
            "50\t50\t100\t100\t150\t150\t200\t200\t250\t250\t\n",
            "50\t50\t100\t100\t150\t150\t200\t200\t250\t250\t\n",
            "50\t50\t100\t100\t150\t150\t200\t200\t250\t250\t\n",
            "50\t50\t100\t100\t150\t150\t200\t200\t250\t250\t\n",
            "50\t50\t100\t100\t150\t150\t200\t200\t250\t250\t\n",
            "50\t50\t100\t100\t150\t150\t200\t200\t250\t250\t\n",
            "50\t50\t100\t100\t150\t150\t200\t200\t250\t250\t\n",
            "50\t50\t100\t100\t150\t150\t200\t200\t250\t250\t\n"
          ]
        }
      ],
      "source": [
        "!gcc asyncTaskOpenMP.c -o asyncTaskOpenMP -fopenmp\n",
        "!./asyncTaskOpenMP      10           2"
      ]
    },
    {
      "cell_type": "markdown",
      "metadata": {
        "id": "5YFWDqIc8Eyw"
      },
      "source": [
        "**What does the code do from the compilation and execution of the previous code?**"
      ]
    },
    {
      "cell_type": "markdown",
      "metadata": {
        "id": "qkR6B1FJ8KkK"
      },
      "source": [
        "O primeiro código utiliza as *threads* para executar os 3 laços de repetição em paralelo, já no segundo código cada *thread* é responsável por realizar o cálculo apenas em seu respectivo bloco da matriz, organizando e separando a paralelização manualmente."
      ]
    },
    {
      "cell_type": "markdown",
      "metadata": {
        "id": "JQoun7VX9KmR"
      },
      "source": [
        "**How would it be possible to extend the code so that the five threads perform asynchronous tasks?**"
      ]
    },
    {
      "cell_type": "markdown",
      "metadata": {
        "id": "DIPMi79V9noJ"
      },
      "source": [
        "Basta adicionar novas condições para cada *thread* passando o bloco correto para realização do cálculo."
      ]
    },
    {
      "cell_type": "markdown",
      "source": [
        "### HandsOn 2 - Integral, Filtro de Imagem e Números Primos\n"
      ],
      "metadata": {
        "id": "WYFunu1825MJ"
      }
    },
    {
      "cell_type": "markdown",
      "source": [
        "#### Sessão 1 - Cálculo de Integral"
      ],
      "metadata": {
        "id": "bJkHrUxhHfAO"
      }
    },
    {
      "cell_type": "markdown",
      "source": [
        "Esta sessão consiste na construção de um código paralelizado para calcular integrais através da soma de infinitésimos."
      ],
      "metadata": {
        "id": "9PAIZ1OsHhRN"
      }
    },
    {
      "cell_type": "code",
      "source": [
        "%%writefile integral.c\n",
        "/*\n",
        "File:           integral.c\n",
        "Last changed:   20220303 11:35:00 \n",
        "Purpose:        Sequential integral calculation\n",
        "Author:         Murilo Boratto  <muriloboratto 'at' fieb.org.br>\n",
        "Usage:\n",
        "HowToCompile:   gcc integral.c -o integral -fopenmp -lm\n",
        "HowToExecute:   OMP_NUM_THREADS=${num_threads} ./integral ${steps}\n",
        "Example:        OMP_NUM_THREADS=4              ./integral   2000\n",
        "*/\n",
        "\n",
        "#include <stdio.h>\n",
        "#include <stdlib.h>\n",
        "#include <math.h>\n",
        "#include <time.h>\n",
        "#include <omp.h>\n",
        "/* f(x) function from which the integral will be calculated. */\n",
        "double f(double x)\n",
        "{\n",
        " return 100 * x + sin(2 * x * M_PI);\n",
        "}\n",
        "/* Calculates the integral of the function between point a and b.*/ \n",
        "\n",
        "double calculate_integral_1(double a, double b, int n) \n",
        "{ \n",
        "   double h, s = 0, result;\n",
        "   double t1, t2;\n",
        "   int i;\n",
        "   \n",
        "   h = (b - a) / n;\n",
        "\n",
        "   t1 = omp_get_wtime();\n",
        "   for (i = 0; i < n; i++) { \n",
        "      s += f(a + h * (i + 0.5)); \n",
        "   } \n",
        "   t2 = omp_get_wtime();\n",
        "   printf(\"Tempo: %f seg\\n\", t2 - t1);\n",
        "\n",
        "   result = h * s; \n",
        "   return result; \n",
        "}\n",
        "\n",
        "int main(int argc, char *argv[])\n",
        "{\n",
        "   double result;\n",
        "   int steps = atoi(argv[1]);\n",
        "   \n",
        "   result = calculate_integral_1(0, 1, steps);\n",
        "  \n",
        "   printf(\"Resultado: %f\\n\", result);\n",
        "\n",
        "   return 0;\n",
        "}"
      ],
      "metadata": {
        "colab": {
          "base_uri": "https://localhost:8080/"
        },
        "id": "rYHSISF8JTK4",
        "outputId": "68c50f3b-e183-4069-8b5d-4d703a9c57bb"
      },
      "execution_count": null,
      "outputs": [
        {
          "output_type": "stream",
          "name": "stdout",
          "text": [
            "Overwriting integral.c\n"
          ]
        }
      ]
    },
    {
      "cell_type": "code",
      "source": [
        "!gcc integral.c -o integral -lm -fopenmp\n",
        "!./integral 10000000"
      ],
      "metadata": {
        "colab": {
          "base_uri": "https://localhost:8080/"
        },
        "id": "K2L6dYx3JY2M",
        "outputId": "9779346a-a236-4fbb-9841-62260f0a7c3b"
      },
      "execution_count": null,
      "outputs": [
        {
          "output_type": "stream",
          "name": "stdout",
          "text": [
            "Tempo: 0.341074 seg\n",
            "Resultado: 50.000000\n"
          ]
        }
      ]
    },
    {
      "cell_type": "markdown",
      "source": [
        "Ao calcular a integral com 10.000.000 passos e com apenas 1 *thread* o tempo foi de 0.341074 segundos e o resultado foi correto."
      ],
      "metadata": {
        "id": "OnUbwZW3JrX5"
      }
    },
    {
      "cell_type": "code",
      "source": [
        "%%writefile integral.c\n",
        "/*\n",
        "File:           integral.c\n",
        "Last changed:   20220303 11:35:00 \n",
        "Purpose:        Sequential integral calculation\n",
        "Author:         Murilo Boratto  <muriloboratto 'at' fieb.org.br>\n",
        "Usage:\n",
        "HowToCompile:   gcc integral.c -o integral -fopenmp -lm\n",
        "HowToExecute:   OMP_NUM_THREADS=${num_threads} ./integral ${steps}\n",
        "Example:        OMP_NUM_THREADS=4              ./integral   2000\n",
        "*/\n",
        "\n",
        "#include <stdio.h>\n",
        "#include <stdlib.h>\n",
        "#include <math.h>\n",
        "#include <time.h>\n",
        "#include <omp.h>\n",
        "/* f(x) function from which the integral will be calculated. */\n",
        "double f(double x)\n",
        "{\n",
        " return 100 * x + sin(2 * x * M_PI);\n",
        "}\n",
        "/* Calculates the integral of the function between point a and b.*/ \n",
        "\n",
        "double calculate_integral_1(double a, double b, int n) \n",
        "{ \n",
        "   double h, s = 0, result;\n",
        "   double t1, t2;\n",
        "   int i;\n",
        "   \n",
        "   h = (b - a) / n;\n",
        "\n",
        "   t1 = omp_get_wtime();\n",
        "   #pragma omp parallel for\n",
        "   for (i = 0; i < n; i++) { \n",
        "      s += f(a + h * (i + 0.5)); \n",
        "   } \n",
        "   t2 = omp_get_wtime();\n",
        "   printf(\"Tempo: %f seg\\n\", t2 - t1);\n",
        "\n",
        "   result = h * s; \n",
        "   return result; \n",
        "}\n",
        "\n",
        "int main(int argc, char *argv[])\n",
        "{\n",
        "   double result;\n",
        "   int steps = atoi(argv[1]);\n",
        "   \n",
        "   result = calculate_integral_1(0, 1, steps);\n",
        "  \n",
        "   printf(\"Resultado: %f\\n\", result);\n",
        "\n",
        "   return 0;\n",
        "}"
      ],
      "metadata": {
        "colab": {
          "base_uri": "https://localhost:8080/"
        },
        "id": "8Pn3tWlQLZmo",
        "outputId": "5bfc7b42-8bf3-49b5-c7cd-65bc34bd0b27"
      },
      "execution_count": null,
      "outputs": [
        {
          "output_type": "stream",
          "name": "stdout",
          "text": [
            "Overwriting integral.c\n"
          ]
        }
      ]
    },
    {
      "cell_type": "code",
      "source": [
        "!gcc integral.c -o integral -lm -fopenmp\n",
        "!./integral 10000000"
      ],
      "metadata": {
        "colab": {
          "base_uri": "https://localhost:8080/"
        },
        "id": "1Oz80j5-LgWr",
        "outputId": "ac41619d-3127-48fc-fb62-ddd081860642"
      },
      "execution_count": null,
      "outputs": [
        {
          "output_type": "stream",
          "name": "stdout",
          "text": [
            "Tempo: 0.212498 seg\n",
            "Resultado: 48.711148\n"
          ]
        }
      ]
    },
    {
      "cell_type": "markdown",
      "source": [
        "Ao introduzir a paralelização da biblioteca OMP e não atribuir a diretiva *reduction* a nenhuma variável, o resultado obtido é incorreto, pois a variável \"s\" faz parte de uma operação de soma dentro do laço de repetição. Sendo assim, a diretiva se faz neccessária para que cada *thread* faça uma parte da soma e seus resultados sejam combinados corretamente no final."
      ],
      "metadata": {
        "id": "8nxwJYskLvI-"
      }
    },
    {
      "cell_type": "code",
      "source": [
        "%%writefile integral.c\n",
        "/*\n",
        "File:           integral.c\n",
        "Last changed:   20220303 11:35:00 \n",
        "Purpose:        Sequential integral calculation\n",
        "Author:         Murilo Boratto  <muriloboratto 'at' fieb.org.br>\n",
        "Usage:\n",
        "HowToCompile:   gcc integral.c -o integral -fopenmp -lm\n",
        "HowToExecute:   OMP_NUM_THREADS=${num_threads} ./integral ${steps}\n",
        "Example:        OMP_NUM_THREADS=4              ./integral   2000\n",
        "*/\n",
        "\n",
        "#include <stdio.h>\n",
        "#include <stdlib.h>\n",
        "#include <math.h>\n",
        "#include <time.h>\n",
        "#include <omp.h>\n",
        "/* f(x) function from which the integral will be calculated. */\n",
        "double f(double x)\n",
        "{\n",
        " return 100 * x + sin(2 * x * M_PI);\n",
        "}\n",
        "/* Calculates the integral of the function between point a and b.*/ \n",
        "\n",
        "double calculate_integral_1(double a, double b, int n) \n",
        "{ \n",
        "   double h, s = 0, result;\n",
        "   double t1, t2;\n",
        "   int i;\n",
        "   \n",
        "   h = (b - a) / n;\n",
        "\n",
        "   t1 = omp_get_wtime();\n",
        "   #pragma omp parallel for reduction(+:s)\n",
        "   for (i = 0; i < n; i++) { \n",
        "      s += f(a + h * (i + 0.5)); \n",
        "   } \n",
        "   t2 = omp_get_wtime();\n",
        "   printf(\"Tempo: %f seg\\n\", t2 - t1);\n",
        "\n",
        "   result = h * s; \n",
        "   return result; \n",
        "}\n",
        "\n",
        "int main(int argc, char *argv[])\n",
        "{\n",
        "   double result;\n",
        "   int steps = atoi(argv[1]);\n",
        "   \n",
        "   result = calculate_integral_1(0, 1, steps);\n",
        "  \n",
        "   printf(\"Resultado: %f\\n\", result);\n",
        "\n",
        "   return 0;\n",
        "}"
      ],
      "metadata": {
        "colab": {
          "base_uri": "https://localhost:8080/"
        },
        "id": "aYjhS0GMOLro",
        "outputId": "e0eda00d-5ccb-4915-f935-3b90731eaa5b"
      },
      "execution_count": null,
      "outputs": [
        {
          "output_type": "stream",
          "name": "stdout",
          "text": [
            "Overwriting integral.c\n"
          ]
        }
      ]
    },
    {
      "cell_type": "code",
      "source": [
        "!gcc integral.c -o integral -lm -fopenmp\n",
        "!./integral 10000000"
      ],
      "metadata": {
        "colab": {
          "base_uri": "https://localhost:8080/"
        },
        "id": "k6ha0ATXOTYj",
        "outputId": "228b2468-4103-4c3c-a060-aa4802a33c0a"
      },
      "execution_count": null,
      "outputs": [
        {
          "output_type": "stream",
          "name": "stdout",
          "text": [
            "Tempo: 0.196094 seg\n",
            "Resultado: 50.000000\n"
          ]
        }
      ]
    },
    {
      "cell_type": "markdown",
      "source": [
        "Após incluir a diretiva *reduction* corretamente, o resultado da integral é o correto e o tempo de execução foi reduzido de 0.341074 para 0.196094, representando um *speedup* de 1.74."
      ],
      "metadata": {
        "id": "6q7RGUdQOXhQ"
      }
    },
    {
      "cell_type": "markdown",
      "source": [
        "#### Sessão 2 - Filtros de Imagem"
      ],
      "metadata": {
        "id": "n1jqgMU_O__w"
      }
    },
    {
      "cell_type": "markdown",
      "source": [
        "Essa sessão baseia-se na paralelização de um código que aplica filtros em uma imagem através do cálculo de média ponderada na matriz que compõe a figura."
      ],
      "metadata": {
        "id": "2oLI-VWVPE_s"
      }
    },
    {
      "cell_type": "code",
      "source": [
        "%%writefile image.c\n",
        "/*\n",
        "File:           image.c\n",
        "Last changed:   20220303 11:35:00 \n",
        "Purpose:        Parallelize image filtering using openMP\n",
        "Author:         Murilo Boratto  <muriloboratto 'at' fieb.org.br>\n",
        "Usage:\n",
        "HowToCompile:   gcc image.c -o image -fopenmp\n",
        "HowToExecute:   OMP_NUM_THREADS=${num_threads} ./image\n",
        "                OMP_NUM_THREADS=4              ./image\n",
        "*/\n",
        "\n",
        "#include <stdio.h>\n",
        "#include <string.h>\n",
        "#include <stdlib.h>\n",
        "#include <omp.h>\n",
        "#define max(a, b) ((a) > (b) ? (a) : (b))\n",
        "#define min(a, b) ((a) < (b) ? (a) : (b))\n",
        "#define MAXCAD 100\n",
        "\n",
        "#define NUM_STEPS 2\n",
        "#define RADIUS 8\n",
        "#define INPUT_IMAGE \"lenna.ppm\"\n",
        "#define OUTPUT_IMAGE \"lenna-fil.ppm\"\n",
        "\n",
        "struct pixel\n",
        "{\n",
        "  unsigned char r, g, b;\n",
        "};\n",
        "\n",
        "int read_ppm_image(char *file_name, struct pixel ***img, int *out_width, int *out_height)\n",
        "{\n",
        "  FILE *fd;\n",
        "  char type[MAXCAD];\n",
        "  int rgb_max, actual_width, actual_height, i, j;\n",
        "\n",
        "  fd = fopen(file_name, \"r\");\n",
        "  if (fd == NULL)\n",
        "  {\n",
        "    printf(\"failed opening file %s\\n\", file_name);\n",
        "    return -1;\n",
        "  }\n",
        "\n",
        "  fscanf(fd, \"%s\", type);\n",
        "  if (strcmp(type, \"P3\") != 0)\n",
        "  {\n",
        "    printf(\"wrong format. P3 format expected\\n\");\n",
        "    return -1;\n",
        "  }\n",
        "\n",
        "  fscanf(fd, \"%d%d\", &actual_width, &actual_height);\n",
        "\n",
        "  if ((*img = (struct pixel **)malloc(sizeof(struct pixel *) * actual_height)) == NULL)\n",
        "  {\n",
        "    printf(\"failed allocating memory for %d rows\\n\", actual_height);\n",
        "    return -1;\n",
        "  }\n",
        "  if (((*img)[0] = (struct pixel *)malloc(sizeof(struct pixel) * actual_width * actual_height)) == NULL)\n",
        "  {\n",
        "    printf(\"failed de locating memory for %d * %d pixels\\n\", actual_width, actual_height);\n",
        "    return -1;\n",
        "  }\n",
        "  for (i = 1; i < actual_height; i++)\n",
        "    (*img)[i] = (*img)[i - 1] + actual_width;\n",
        "\n",
        "  fscanf(fd, \"%d\", &rgb_max);\n",
        "\n",
        "  for (i = 0; i < actual_height; i++)\n",
        "    for (j = 0; j < actual_width; j++)\n",
        "    {\n",
        "      fscanf(fd, \"%hhu\", &((*img)[i][j].r));\n",
        "      fscanf(fd, \"%hhu\", &((*img)[i][j].g));\n",
        "      fscanf(fd, \"%hhu\", &((*img)[i][j].b));\n",
        "    }\n",
        "\n",
        "  *out_width = actual_height;\n",
        "  *out_height = actual_width;\n",
        "\n",
        "  fclose(fd);\n",
        "\n",
        "  return 0;\n",
        "}\n",
        "\n",
        "int write_ppm_image(char *file_name, struct pixel **img, int width, int height)\n",
        "{\n",
        "  FILE *fd;\n",
        "  int rgb_max = 255, i, j;\n",
        "\n",
        "  fd = fopen(file_name, \"w\");\n",
        "  if (fd == NULL)\n",
        "  {\n",
        "    printf(\"failed opening file %s\\n\", file_name);\n",
        "    return -1;\n",
        "  }\n",
        "\n",
        "  fprintf(fd, \"P3\\n\");\n",
        "  fprintf(fd, \"%d %d\\n\", height, width);\n",
        "  fprintf(fd, \"%d\\n\", rgb_max);\n",
        "\n",
        "  for (i = 0; i < width; i++)\n",
        "  {\n",
        "    for (j = 0; j < height; j++)\n",
        "    {\n",
        "      fprintf(fd, \"%d \", img[i][j].r);\n",
        "      fprintf(fd, \"%d \", img[i][j].g);\n",
        "      fprintf(fd, \"%d \", img[i][j].b);\n",
        "    }\n",
        "    fprintf(fd, \"\\n\");\n",
        "  }\n",
        "\n",
        "  fclose(fd);\n",
        "\n",
        "  return 0;\n",
        "}\n",
        "\n",
        "int apply_filter(int steps, int radius, struct pixel **src, struct pixel **dst, int width, int height)\n",
        "{\n",
        "  int i, j, k, l, s, total;\n",
        "\n",
        "  struct\n",
        "  {\n",
        "    int r, g, b;\n",
        "  } result;\n",
        "  int **filter_block, filter_factor;\n",
        "\n",
        "  if ((filter_block = (int **)malloc(sizeof(int *) * (2 * (radius + 1)))) == NULL)\n",
        "  {\n",
        "    printf(\"failed allocating memory for the filter block\\n\");\n",
        "    exit(-1);\n",
        "  }\n",
        "  if ((filter_block[0] = (int *)malloc(sizeof(int) * (2 * (radius + 1)) * (2 * (radius + 1)))) == NULL)\n",
        "  {\n",
        "    printf(\"failed allocating memory for the filter block\\n\");\n",
        "    exit(-1);\n",
        "  }\n",
        "  for (i = 1; i < 2 * (radius + 1); i++)\n",
        "    filter_block[i] = filter_block[i - 1] + 2 * (radius + 1);\n",
        "\n",
        "  for (i = -radius; i <= radius; i++)\n",
        "    for (j = -radius; j <= radius; j++)\n",
        "      filter_block[i + radius][j + radius] = (radius - abs(i)) * (radius - abs(i)) + (radius - abs(j)) * (radius - abs(j)) + 1;\n",
        "\n",
        "  for (s = 0; s < steps; s++)\n",
        "  {\n",
        "    for (i = 0; i < width; i++)\n",
        "    {\n",
        "      for (j = 0; j < height; j++)\n",
        "      {\n",
        "        result.r = 0;\n",
        "        result.g = 0;\n",
        "        result.b = 0;\n",
        "        total = 0;\n",
        "\n",
        "        for (k = max(0, i - radius); k <= min(width - 1, i + radius); k++)\n",
        "        {\n",
        "          for (l = max(0, j - radius); l <= min(height - 1, j + radius); l++)\n",
        "          {\n",
        "            filter_factor = filter_block[k - i + radius][l - j + radius];\n",
        "            result.r += src[k][l].r * filter_factor;\n",
        "            result.g += src[k][l].g * filter_factor;\n",
        "            result.b += src[k][l].b * filter_factor;\n",
        "            total += filter_factor;\n",
        "          }\n",
        "        }\n",
        "        result.r /= total;\n",
        "        result.g /= total;\n",
        "        result.b /= total;\n",
        "        dst[i][j].r = result.r;\n",
        "        dst[i][j].g = result.g;\n",
        "        dst[i][j].b = result.b;\n",
        "      }\n",
        "    }\n",
        "    if (s + 1 < steps)\n",
        "      memcpy(src[0], dst[0], width * height * sizeof(struct pixel));\n",
        "  }\n",
        "  free(filter_block[0]);\n",
        "  free(filter_block);\n",
        "  return 0;\n",
        "}\n",
        "\n",
        "int main()\n",
        "{\n",
        "  double start;\n",
        "  double end;\n",
        "  start = omp_get_wtime();\n",
        "\n",
        "  struct pixel **src_img, **dst_img;\n",
        "  int width, height;\n",
        "  int i, result;\n",
        "\n",
        "  result = read_ppm_image(INPUT_IMAGE, &src_img, &width, &height);\n",
        "\n",
        "  dst_img = (struct pixel **)malloc(width * sizeof(struct pixel *));\n",
        "  dst_img[0] = (struct pixel *)malloc(height * width * sizeof(struct pixel));\n",
        "  for (i = 1; i < width; i++)\n",
        "    dst_img[i] = dst_img[i - 1] + height;\n",
        "\n",
        "  apply_filter(NUM_STEPS, RADIUS, src_img, dst_img, width, height);\n",
        "\n",
        "  result = write_ppm_image(OUTPUT_IMAGE, dst_img, width, height);\n",
        "\n",
        "  free(src_img[0]);\n",
        "  free(dst_img[0]);\n",
        "  free(src_img);\n",
        "  free(dst_img);\n",
        "\n",
        "  printf(\"filtered image resolution: %dx%d\\n\", width, height);\n",
        "  end = omp_get_wtime();\n",
        "  printf(\"Work took %f seconds\\n\", end - start);\n",
        "  return 0;\n",
        "}"
      ],
      "metadata": {
        "colab": {
          "base_uri": "https://localhost:8080/"
        },
        "id": "Lusv0ZNMUfj9",
        "outputId": "3f0497e2-cec7-4153-b8a0-542d90e3f8e4"
      },
      "execution_count": null,
      "outputs": [
        {
          "output_type": "stream",
          "name": "stdout",
          "text": [
            "Overwriting image.c\n"
          ]
        }
      ]
    },
    {
      "cell_type": "code",
      "source": [
        "!gcc image.c -o image -fopenmp\n",
        "!./image"
      ],
      "metadata": {
        "colab": {
          "base_uri": "https://localhost:8080/"
        },
        "id": "Ok_j8zorUovl",
        "outputId": "012788ff-7b9c-4373-88f3-39400be7c038"
      },
      "execution_count": null,
      "outputs": [
        {
          "output_type": "stream",
          "name": "stdout",
          "text": [
            "filtered image resolution: 512x512\n",
            "Work took 1.378948 seconds\n"
          ]
        }
      ]
    },
    {
      "cell_type": "markdown",
      "source": [
        "Para filtrar uma imagem de tamanho 512x512 sem paralelização, com 2 passos e 8 de *radius*, o tempo de execução foi de 1.378948 segundos."
      ],
      "metadata": {
        "id": "L4ybWEV2XPgS"
      }
    },
    {
      "cell_type": "markdown",
      "source": [
        "Após isso, a paralelização foi aplicada em busca de maior eficiência."
      ],
      "metadata": {
        "id": "Uvi8fztRez8R"
      }
    },
    {
      "cell_type": "code",
      "source": [
        "%%writefile image.c\n",
        "/*\n",
        "File:           image.c\n",
        "Last changed:   20220303 11:35:00 \n",
        "Purpose:        Parallelize image filtering using openMP\n",
        "Author:         Murilo Boratto  <muriloboratto 'at' fieb.org.br>\n",
        "Usage:\n",
        "HowToCompile:   gcc image.c -o image -fopenmp\n",
        "HowToExecute:   OMP_NUM_THREADS=${num_threads} ./image\n",
        "                OMP_NUM_THREADS=4              ./image\n",
        "*/\n",
        "\n",
        "#include <stdio.h>\n",
        "#include <string.h>\n",
        "#include <stdlib.h>\n",
        "#include <omp.h>\n",
        "#define max(a, b) ((a) > (b) ? (a) : (b))\n",
        "#define min(a, b) ((a) < (b) ? (a) : (b))\n",
        "#define MAXCAD 100\n",
        "\n",
        "#define NUM_STEPS 2\n",
        "#define RADIUS 8\n",
        "#define INPUT_IMAGE \"lenna.ppm\"\n",
        "#define OUTPUT_IMAGE \"lenna-fil.ppm\"\n",
        "\n",
        "struct pixel\n",
        "{\n",
        "  unsigned char r, g, b;\n",
        "};\n",
        "\n",
        "int read_ppm_image(char *file_name, struct pixel ***img, int *out_width, int *out_height)\n",
        "{\n",
        "  FILE *fd;\n",
        "  char type[MAXCAD];\n",
        "  int rgb_max, actual_width, actual_height, i, j;\n",
        "\n",
        "  fd = fopen(file_name, \"r\");\n",
        "  if (fd == NULL)\n",
        "  {\n",
        "    printf(\"failed opening file %s\\n\", file_name);\n",
        "    return -1;\n",
        "  }\n",
        "\n",
        "  fscanf(fd, \"%s\", type);\n",
        "  if (strcmp(type, \"P3\") != 0)\n",
        "  {\n",
        "    printf(\"wrong format. P3 format expected\\n\");\n",
        "    return -1;\n",
        "  }\n",
        "\n",
        "  fscanf(fd, \"%d%d\", &actual_width, &actual_height);\n",
        "\n",
        "  if ((*img = (struct pixel **)malloc(sizeof(struct pixel *) * actual_height)) == NULL)\n",
        "  {\n",
        "    printf(\"failed allocating memory for %d rows\\n\", actual_height);\n",
        "    return -1;\n",
        "  }\n",
        "  if (((*img)[0] = (struct pixel *)malloc(sizeof(struct pixel) * actual_width * actual_height)) == NULL)\n",
        "  {\n",
        "    printf(\"failed de locating memory for %d * %d pixels\\n\", actual_width, actual_height);\n",
        "    return -1;\n",
        "  }\n",
        "  for (i = 1; i < actual_height; i++)\n",
        "    (*img)[i] = (*img)[i - 1] + actual_width;\n",
        "\n",
        "  fscanf(fd, \"%d\", &rgb_max);\n",
        "\n",
        "  for (i = 0; i < actual_height; i++)\n",
        "    for (j = 0; j < actual_width; j++)\n",
        "    {\n",
        "      fscanf(fd, \"%hhu\", &((*img)[i][j].r));\n",
        "      fscanf(fd, \"%hhu\", &((*img)[i][j].g));\n",
        "      fscanf(fd, \"%hhu\", &((*img)[i][j].b));\n",
        "    }\n",
        "\n",
        "  *out_width = actual_height;\n",
        "  *out_height = actual_width;\n",
        "\n",
        "  fclose(fd);\n",
        "\n",
        "  return 0;\n",
        "}\n",
        "\n",
        "int write_ppm_image(char *file_name, struct pixel **img, int width, int height)\n",
        "{\n",
        "  FILE *fd;\n",
        "  int rgb_max = 255, i, j;\n",
        "\n",
        "  fd = fopen(file_name, \"w\");\n",
        "  if (fd == NULL)\n",
        "  {\n",
        "    printf(\"failed opening file %s\\n\", file_name);\n",
        "    return -1;\n",
        "  }\n",
        "\n",
        "  fprintf(fd, \"P3\\n\");\n",
        "  fprintf(fd, \"%d %d\\n\", height, width);\n",
        "  fprintf(fd, \"%d\\n\", rgb_max);\n",
        "\n",
        "  for (i = 0; i < width; i++)\n",
        "  {\n",
        "    for (j = 0; j < height; j++)\n",
        "    {\n",
        "      fprintf(fd, \"%d \", img[i][j].r);\n",
        "      fprintf(fd, \"%d \", img[i][j].g);\n",
        "      fprintf(fd, \"%d \", img[i][j].b);\n",
        "    }\n",
        "    fprintf(fd, \"\\n\");\n",
        "  }\n",
        "\n",
        "  fclose(fd);\n",
        "\n",
        "  return 0;\n",
        "}\n",
        "\n",
        "int apply_filter(int steps, int radius, struct pixel **src, struct pixel **dst, int width, int height)\n",
        "{\n",
        "  int i, j, k, l, s, total;\n",
        "\n",
        "  struct\n",
        "  {\n",
        "    int r, g, b;\n",
        "  } result;\n",
        "  int **filter_block, filter_factor;\n",
        "\n",
        "  if ((filter_block = (int **)malloc(sizeof(int *) * (2 * (radius + 1)))) == NULL)\n",
        "  {\n",
        "    printf(\"failed allocating memory for the filter block\\n\");\n",
        "    exit(-1);\n",
        "  }\n",
        "  if ((filter_block[0] = (int *)malloc(sizeof(int) * (2 * (radius + 1)) * (2 * (radius + 1)))) == NULL)\n",
        "  {\n",
        "    printf(\"failed allocating memory for the filter block\\n\");\n",
        "    exit(-1);\n",
        "  }\n",
        "  for (i = 1; i < 2 * (radius + 1); i++)\n",
        "    filter_block[i] = filter_block[i - 1] + 2 * (radius + 1);\n",
        "\n",
        "  for (i = -radius; i <= radius; i++)\n",
        "    for (j = -radius; j <= radius; j++)\n",
        "      filter_block[i + radius][j + radius] = (radius - abs(i)) * (radius - abs(i)) + (radius - abs(j)) * (radius - abs(j)) + 1;\n",
        "\n",
        "  #pragma omp parallel for private(i,k,l) reduction(+: total)\n",
        "  for (s = 0; s < steps; s++)\n",
        "  {\n",
        "    for (i = 0; i < width; i++)\n",
        "    {\n",
        "      for (j = 0; j < height; j++)\n",
        "      {\n",
        "        result.r = 0;\n",
        "        result.g = 0;\n",
        "        result.b = 0;\n",
        "        total = 0;\n",
        "        for (k = max(0, i - radius); k <= min(width - 1, i + radius); k++)\n",
        "        {\n",
        "          for (l = max(0, j - radius); l <= min(height - 1, j + radius); l++)\n",
        "          {\n",
        "            filter_factor = filter_block[k - i + radius][l - j + radius];\n",
        "            result.r += src[k][l].r * filter_factor;\n",
        "            result.g += src[k][l].g * filter_factor;\n",
        "            result.b += src[k][l].b * filter_factor;\n",
        "            total += filter_factor;\n",
        "          }\n",
        "        }\n",
        "        result.r /= total;\n",
        "        result.g /= total;\n",
        "        result.b /= total;\n",
        "        dst[i][j].r = result.r;\n",
        "        dst[i][j].g = result.g;\n",
        "        dst[i][j].b = result.b;\n",
        "      }\n",
        "    }\n",
        "    if (s + 1 < steps)\n",
        "      memcpy(src[0], dst[0], width * height * sizeof(struct pixel));\n",
        "  }\n",
        "  free(filter_block[0]);\n",
        "  free(filter_block);\n",
        "  return 0;\n",
        "}\n",
        "\n",
        "int main()\n",
        "{\n",
        "  double start;\n",
        "  double end;\n",
        "  start = omp_get_wtime();\n",
        "\n",
        "  struct pixel **src_img, **dst_img;\n",
        "  int width, height;\n",
        "  int i, result;\n",
        "\n",
        "  result = read_ppm_image(INPUT_IMAGE, &src_img, &width, &height);\n",
        "\n",
        "  dst_img = (struct pixel **)malloc(width * sizeof(struct pixel *));\n",
        "  dst_img[0] = (struct pixel *)malloc(height * width * sizeof(struct pixel));\n",
        "  for (i = 1; i < width; i++)\n",
        "    dst_img[i] = dst_img[i - 1] + height;\n",
        "\n",
        "  apply_filter(NUM_STEPS, RADIUS, src_img, dst_img, width, height);\n",
        "\n",
        "  result = write_ppm_image(OUTPUT_IMAGE, dst_img, width, height);\n",
        "\n",
        "  free(src_img[0]);\n",
        "  free(dst_img[0]);\n",
        "  free(src_img);\n",
        "  free(dst_img);\n",
        "\n",
        "  printf(\"filtered image resolution: %dx%d\\n\", width, height);\n",
        "  end = omp_get_wtime();\n",
        "  printf(\"Work took %f seconds\\n\", end - start);\n",
        "  return 0;\n",
        "}"
      ],
      "metadata": {
        "colab": {
          "base_uri": "https://localhost:8080/"
        },
        "id": "lLk2Ab4nXvHW",
        "outputId": "4812b267-e5cf-427a-d2ec-76f621f3e2ce"
      },
      "execution_count": null,
      "outputs": [
        {
          "output_type": "stream",
          "name": "stdout",
          "text": [
            "Overwriting image.c\n"
          ]
        }
      ]
    },
    {
      "cell_type": "code",
      "source": [
        "!gcc image.c -o image -fopenmp\n",
        "!OMP_NUM_THREADS=2 ./image"
      ],
      "metadata": {
        "colab": {
          "base_uri": "https://localhost:8080/"
        },
        "id": "7C80gXCgcggt",
        "outputId": "42a056de-fddb-4104-b3fc-b17c8d17c333"
      },
      "execution_count": null,
      "outputs": [
        {
          "output_type": "stream",
          "name": "stdout",
          "text": [
            "filtered image resolution: 512x512\n",
            "Work took 3.243597 seconds\n"
          ]
        }
      ]
    },
    {
      "cell_type": "markdown",
      "source": [
        "A paralelização foi feita com a utilização da diretiva *reduction* para a variável \"total\" pois sofre uma operação de soma por diferentes *threads*, e da diretiva *private* que torna as variáveis privadas para as *threads*, tornando seu valor diferente para cada uma.\n",
        "\n",
        "Porém notou-se que o tempo de execução dobrou se comparado ao tempo sem paralelização. Isso se deve provavelmente à configuração incorreta das diretivas, que acarreta na organização e orquestramento incorreto das *threads*."
      ],
      "metadata": {
        "id": "3fWWWBSDcs_8"
      }
    },
    {
      "cell_type": "markdown",
      "source": [
        "####  Session 3 - Números Primos"
      ],
      "metadata": {
        "id": "I_OgLMEqF0EX"
      }
    },
    {
      "cell_type": "markdown",
      "source": [
        "Essa sessão consiste na construção de um código paralelizado que checa se um número é primo ou não."
      ],
      "metadata": {
        "id": "v1yxsSjqGfKD"
      }
    },
    {
      "cell_type": "code",
      "source": [
        "%%writefile big_prime.c\n",
        "/*\n",
        "File:           big_prime.c\n",
        "Last changed:   20220303 11:35:00\n",
        "Purpose:        Parallelize finding the biggest 128 bit prime number using openMP\n",
        "Author:         Murilo Boratto - muriloboratto@uneb.br\n",
        "Usage:\n",
        "HowToCompile:   gcc big_prime.c -o big_prime -fopenmp -lm\n",
        "HowToExecute:   OMP_NUM_THREADS=${num_threads} ./big_prime\n",
        "                OMP_NUM_THREADS=4              ./big_prime\n",
        "*/\n",
        "\n",
        "#include <stdio.h>\n",
        "#include <math.h>\n",
        "#include <limits.h>\n",
        "#include <omp.h>\n",
        "\n",
        "typedef unsigned long long big_integer;\n",
        "#define BIGGEST_INTEGER ULLONG_MAX\n",
        "\n",
        "int is_prime(big_integer n)\n",
        "{\n",
        "  int result;\n",
        "  big_integer sq_root;\n",
        "\n",
        "  result = (n % 2 != 0 || n == 2);\n",
        "\n",
        "  if (result)\n",
        "  {\n",
        "    sq_root = sqrt(n);\n",
        "\n",
        "    for (big_integer i = 3; result && i <= sq_root; i += 2)\n",
        "      result = n % i != 0;\n",
        "  }\n",
        "\n",
        "  return result;\n",
        "}\n",
        "\n",
        "int main(int argc, char **argv)\n",
        "{\n",
        "  big_integer n;\n",
        "  double t1, t2;\n",
        "  t1 = omp_get_wtime();\n",
        "  for (n = BIGGEST_INTEGER; !is_prime(n); n -= 2)\n",
        "  {\n",
        "  }\n",
        "  t2 = omp_get_wtime();\n",
        "  printf(\"Tempo de execução: %lf\\n\", t2-t1);\n",
        "  printf(\"%llu\\n\", n);\n",
        "\n",
        "  return 0;\n",
        "}\n"
      ],
      "metadata": {
        "colab": {
          "base_uri": "https://localhost:8080/"
        },
        "id": "XVazW9ZNG7zA",
        "outputId": "aed06d39-3b34-45a1-fd18-ad7effb132fe"
      },
      "execution_count": 22,
      "outputs": [
        {
          "output_type": "stream",
          "name": "stdout",
          "text": [
            "Overwriting big_prime.c\n"
          ]
        }
      ]
    },
    {
      "cell_type": "code",
      "source": [
        "!gcc big_prime.c -o big_prime -lm -fopenmp\n",
        "!./big_prime"
      ],
      "metadata": {
        "colab": {
          "base_uri": "https://localhost:8080/"
        },
        "id": "0FZlklgiHGDG",
        "outputId": "178aa178-36e3-46cd-e9cf-ff83aaa00051"
      },
      "execution_count": 23,
      "outputs": [
        {
          "output_type": "stream",
          "name": "stdout",
          "text": [
            "Tempo de execução: 20.546953\n",
            "18446744073709551557\n"
          ]
        }
      ]
    },
    {
      "cell_type": "markdown",
      "source": [
        "O tempo de execução desse código para o maior número inteiro de 8 *bytes* é de 20.003066 segundos. A execução foi demorada, pois o método sequencial é baseado em sucessivas divisões que validam se o número é divisível apenas por 1 e por ele mesmo, ou seja, primo. "
      ],
      "metadata": {
        "id": "azsPGl-LHJWE"
      }
    },
    {
      "cell_type": "markdown",
      "source": [
        "Sendo assim, foi realizada a primeira tentativa de paralelização, com o objetivo aumentar a eficiência."
      ],
      "metadata": {
        "id": "q2BGI8x1HsBU"
      }
    },
    {
      "cell_type": "code",
      "source": [
        "%%writefile big_prime.c\n",
        "/*\n",
        "File:           big_prime.c\n",
        "Last changed:   20220303 11:35:00\n",
        "Purpose:        Parallelize finding the biggest 128 bit prime number using openMP\n",
        "Author:         Murilo Boratto - muriloboratto@uneb.br\n",
        "Usage:\n",
        "HowToCompile:   gcc big_prime.c -o big_prime -fopenmp -lm\n",
        "HowToExecute:   OMP_NUM_THREADS=${num_threads} ./big_prime\n",
        "                OMP_NUM_THREADS=4              ./big_prime\n",
        "*/\n",
        "\n",
        "#include <stdio.h>\n",
        "#include <math.h>\n",
        "#include <limits.h>\n",
        "\n",
        "typedef unsigned long long big_integer;\n",
        "#define BIGGEST_INTEGER ULLONG_MAX\n",
        "\n",
        "int is_prime(big_integer n)\n",
        "{\n",
        "  int result;\n",
        "  big_integer sq_root;\n",
        "\n",
        "  result = (n % 2 != 0 || n == 2);\n",
        "\n",
        "  if (result)\n",
        "  {\n",
        "    sq_root = sqrt(n);\n",
        "\n",
        "\t#pragma omp parallel for\n",
        "  for (big_integer i = 3; result && i <= sq_root; i += 2)\n",
        "      result = n % i != 0;\n",
        "  }\n",
        "\n",
        "  return result;\n",
        "}\n",
        "\n",
        "int main(int argc, char **argv)\n",
        "{\n",
        "  big_integer n;\n",
        "\n",
        "  for (n = BIGGEST_INTEGER; !is_prime(n); n -= 2)\n",
        "  {\n",
        "  }\n",
        "\n",
        "  printf(\"%llu\\n\", n);\n",
        "\n",
        "  return 0;\n",
        "}\n"
      ],
      "metadata": {
        "colab": {
          "base_uri": "https://localhost:8080/"
        },
        "id": "vd2Ng0lIIiZk",
        "outputId": "fb31e9dd-ed42-4089-fe62-e7aa1a6794db"
      },
      "execution_count": 16,
      "outputs": [
        {
          "output_type": "stream",
          "name": "stdout",
          "text": [
            "Overwriting big_prime.c\n"
          ]
        }
      ]
    },
    {
      "cell_type": "code",
      "source": [
        "!gcc big_prime.c -o big_prime -fopenmp -lm"
      ],
      "metadata": {
        "colab": {
          "base_uri": "https://localhost:8080/"
        },
        "id": "IYkDsPxTIrJ9",
        "outputId": "e902dc71-abe9-4ff1-c03d-5c3e450497b6"
      },
      "execution_count": 18,
      "outputs": [
        {
          "output_type": "stream",
          "name": "stdout",
          "text": [
            "\u001b[01m\u001b[Kbig_prime.c:\u001b[m\u001b[K In function ‘\u001b[01m\u001b[Kis_prime\u001b[m\u001b[K’:\n",
            "\u001b[01m\u001b[Kbig_prime.c:31:27:\u001b[m\u001b[K \u001b[01;31m\u001b[Kerror: \u001b[m\u001b[Kinvalid controlling predicate\n",
            "   for (big_integer i = 3; \u001b[01;31m\u001b[Kresult\u001b[m\u001b[K && i <= sq_root; i += 2)\n",
            "                           \u001b[01;31m\u001b[K^~~~~~\u001b[m\u001b[K\n"
          ]
        }
      ]
    },
    {
      "cell_type": "markdown",
      "source": [
        "No entanto, ao colocar a diretiva:\n",
        "\n",
        "```\n",
        "#pragma omp parallel for\n",
        "```\n",
        "A compilação nos retorna um erro, justamente porque a bilioteca OpenMP não permite a paralelização de um \"for\" sem que seu início, fim e incremento estejam bem definidos. Portanto, o código foi modificado para uma parelelização em blocos.\n"
      ],
      "metadata": {
        "id": "UE4PrRAcIszq"
      }
    },
    {
      "cell_type": "code",
      "source": [
        "%%writefile big_prime.c\n",
        "/*\n",
        "File:           big_prime.c\n",
        "Last changed:   20220303 11:35:00\n",
        "Purpose:        Parallelize finding the biggest 128 bit prime number using openMP\n",
        "Author:         Murilo Boratto - muriloboratto@uneb.br\n",
        "Usage:\n",
        "HowToCompile:   gcc big_prime.c -o big_prime -fopenmp -lm\n",
        "HowToExecute:   OMP_NUM_THREADS=${num_threads} ./big_prime\n",
        "                OMP_NUM_THREADS=4              ./big_prime\n",
        "*/\n",
        "\n",
        "#include <stdio.h>\n",
        "#include <math.h>\n",
        "#include <limits.h>\n",
        "#include <omp.h>\n",
        "\n",
        "typedef unsigned long long big_integer;\n",
        "#define BIGGEST_INTEGER ULLONG_MAX\n",
        "#define NUM_THREADS 2\n",
        "\n",
        "int is_prime(big_integer n)\n",
        "{\n",
        "  int result;\n",
        "  big_integer sq_root, i;\n",
        "\n",
        "  result = (n % 2 != 0 || n == 2);\n",
        "\n",
        "  if (result)\n",
        "  {\n",
        "    sq_root = sqrt(n);\n",
        "    \n",
        "    omp_set_num_threads(NUM_THREADS);\n",
        "    #pragma omp parallel private(i)\n",
        "    {\n",
        "      int id = omp_get_thread_num();\n",
        "\n",
        "      if(id == 0)\n",
        "      {\n",
        "        i = 3;\n",
        "        while(result && i <= (big_integer)sq_root/NUM_THREADS){\n",
        "          result = n % i != 0;\n",
        "          i += 2;\n",
        "        }\n",
        "      }\n",
        "      if(id == 1)\n",
        "      {\n",
        "        i = (big_integer)sq_root/NUM_THREADS;\n",
        "        while(result && i <= 2*sq_root/NUM_THREADS){\n",
        "          result = n % i != 0;\n",
        "          i += 2;\n",
        "        }\n",
        "      }\n",
        "    }\n",
        "  }\n",
        "\n",
        "  return result;\n",
        "}\n",
        "\n",
        "int main(int argc, char **argv)\n",
        "{\n",
        "  big_integer n;\n",
        "  double t1, t2;\n",
        "  t1 = omp_get_wtime();\n",
        "  for (n = BIGGEST_INTEGER; !is_prime(n); n -= 2)\n",
        "  {\n",
        "  }\n",
        "  t2 = omp_get_wtime();\n",
        "  printf(\"Tempo de execução: %lf\\n\", t2-t1);\n",
        "  printf(\"%llu\\n\", n);\n",
        "\n",
        "  return 0;\n",
        "}"
      ],
      "metadata": {
        "colab": {
          "base_uri": "https://localhost:8080/"
        },
        "id": "K5dUcJCS8AVZ",
        "outputId": "15d9cb68-7edd-4a4d-8169-b6b9ca4aea4a"
      },
      "execution_count": 49,
      "outputs": [
        {
          "output_type": "stream",
          "name": "stdout",
          "text": [
            "Overwriting big_prime.c\n"
          ]
        }
      ]
    },
    {
      "cell_type": "code",
      "source": [
        "!gcc big_prime.c -o big_prime -fopenmp -lm\n",
        "!./big_prime"
      ],
      "metadata": {
        "colab": {
          "base_uri": "https://localhost:8080/"
        },
        "id": "gtQnmEix8EAJ",
        "outputId": "4555aa42-3e88-4ca5-b002-e2c99380794f"
      },
      "execution_count": 50,
      "outputs": [
        {
          "output_type": "stream",
          "name": "stdout",
          "text": [
            "Tempo de execução: 8.914941\n",
            "18446744073709551611\n"
          ]
        }
      ]
    },
    {
      "cell_type": "markdown",
      "source": [
        "Assim, é possível notar que o tempo de execução do código com o mesmo número primo e com 2 threads teve um *speedup* de 2,30."
      ],
      "metadata": {
        "id": "NmIX52GTOU_p"
      }
    },
    {
      "cell_type": "markdown",
      "metadata": {
        "id": "3EkecWU4KKvo"
      },
      "source": [
        "# Conclusão"
      ]
    },
    {
      "cell_type": "markdown",
      "metadata": {
        "id": "EOXpKoRrJ5sm"
      },
      "source": [
        "Levando em consideração o que foi pesquisado e aprendido em sala de aula, a equipe completou com sucesso o objetivo das duas sessões do HandsOn-1, e completou com sucesso apenas a primeira sessão do HandsOn-2, enquanto as duas últimas houveram dificuldades que comprometeram os resultados. \n",
        "\n",
        "No HandsOn-1, com o uso da diretiva *private* foi possível paralelizar de forma correta os laço de repetição e assim acelerar o tempo de execução da multiplicação de matrizes e também foi testado outra forma de paralelizar esse tipo de operação dividindo a matriz em blocos. \n",
        "\n",
        "No HandsOn-2, com o uso correto da diretiva *reduction* foi realizável acertar o resultado da integral com tempo reduzido. Já no código de filtros de imagem, a paralelização não foi configurada corretamente de acordo aos laços de repetição e suas diretivas, que fez aumentar o tempo de execução. E no algoritmo de números primos foi necessário utilizar paralelização em blocos para contornar uma limitação da biblioteca.\n",
        "\n",
        "Sendo assim ambas práticas serviram como aprendizado e também como uma primeira interação com os materiais que serão utilizados na disciplina. Uma sugestão para testes futuros seria o uso da função *barrier* em ambos os procedimentos."
      ]
    },
    {
      "cell_type": "markdown",
      "metadata": {
        "id": "ZLvw8lasJ9yZ"
      },
      "source": [
        "# Agradecimentos"
      ]
    },
    {
      "cell_type": "markdown",
      "source": [
        "Agradecemos ao professor Murilo Boratto pela disponibilização dos matériais e objetos de estudo."
      ],
      "metadata": {
        "id": "rLP2Oyr1GLSe"
      }
    },
    {
      "cell_type": "markdown",
      "metadata": {
        "id": "qbxAR_nZ3ey8"
      },
      "source": [
        "# Referências"
      ]
    },
    {
      "cell_type": "markdown",
      "metadata": {
        "id": "eHs1Te143ezA"
      },
      "source": [
        "[1] SOBRAL, João Bosco. “INE 5645 Programação Paralela e Distribuída”, http://www.inf.ufsc.br/~bosco.sobral/ensino/ine5645/Unidade1.pdf, Agosto.\n",
        "\n",
        "[2] ROCHA, Ricardo. “Programação Paralela e Distribuída”, https://www.dcc.fc.up.pt/~ricroc/aulas/0708/ppd/apontamentos/fundamentos.pdf, Agosto."
      ]
    }
  ],
  "metadata": {
    "accelerator": "GPU",
    "colab": {
      "collapsed_sections": [
        "B5PcGb-Pt0_j",
        "dGlWZ-SlQObx",
        "ZLvw8lasJ9yZ",
        "qbxAR_nZ3ey8"
      ],
      "name": "Davi_Costa_model_report_handson_jupyter_2022.ipynb",
      "provenance": [],
      "toc_visible": true
    },
    "kernelspec": {
      "display_name": "Python 3 (ipykernel)",
      "language": "python",
      "name": "python3"
    },
    "language_info": {
      "codemirror_mode": {
        "name": "ipython",
        "version": 3
      },
      "file_extension": ".py",
      "mimetype": "text/x-python",
      "name": "python",
      "nbconvert_exporter": "python",
      "pygments_lexer": "ipython3",
      "version": "3.8.8"
    }
  },
  "nbformat": 4,
  "nbformat_minor": 0
}